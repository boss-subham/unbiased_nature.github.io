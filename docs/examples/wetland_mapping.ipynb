{
  "cells": [
    {
      "cell_type": "markdown",
      "metadata": {
        "id": "moTRI8iQOnCE"
      },
      "source": [
        "# Wetland Mapping with GeoAI\n",
        "\n",
        "[![image](https://colab.research.google.com/assets/colab-badge.svg)](https://colab.research.google.com/github/opengeos/geoai/blob/main/docs/examples/wetland_mapping.ipynb)\n",
        "\n",
        "## Install package\n",
        "To use the `geoai-py` package, ensure it is installed in your environment. Uncomment the command below if needed."
      ]
    },
    {
      "cell_type": "code",
      "execution_count": null,
      "metadata": {
        "id": "SDzuFbxGOnCI"
      },
      "outputs": [],
      "source": [
        "# %pip install geoai-py"
      ]
    },
    {
      "cell_type": "markdown",
      "metadata": {
        "id": "QfLyT64COnCK"
      },
      "source": [
        "## Import libraries"
      ]
    },
    {
      "cell_type": "code",
      "execution_count": null,
      "metadata": {
        "id": "_IPe_dKLOnCK"
      },
      "outputs": [],
      "source": [
        "import leafmap\n",
        "import geoai"
      ]
    },
    {
      "cell_type": "markdown",
      "metadata": {
        "id": "2S5gX9RdOnCL"
      },
      "source": [
        "## Download sample NAIP imagery\n",
        "\n",
        "Sample NAIP imagery: https://huggingface.co/datasets/giswqs/geospatial/tree/main/naip"
      ]
    },
    {
      "cell_type": "code",
      "execution_count": null,
      "metadata": {
        "id": "52T_aA4XOnCL"
      },
      "outputs": [],
      "source": [
        "train_raster_url = \"https://huggingface.co/datasets/giswqs/geospatial/resolve/main/naip/m_4609931_ne_14_1_20100629.tif\"\n",
        "test_raster_url = \"https://huggingface.co/datasets/giswqs/geospatial/resolve/main/naip/m_4609932_nw_14_1_20100629.tif\""
      ]
    },
    {
      "cell_type": "code",
      "execution_count": null,
      "metadata": {
        "id": "XYbAF3TQOnCM"
      },
      "outputs": [],
      "source": [
        "train_raster_path = geoai.download_file(train_raster_url)\n",
        "test_raster_path = geoai.download_file(test_raster_url)"
      ]
    },
    {
      "cell_type": "code",
      "execution_count": null,
      "metadata": {
        "id": "ZKRY-7lMOnCM"
      },
      "outputs": [],
      "source": [
        "geoai.print_raster_info(test_raster_path, show_preview=False)"
      ]
    },
    {
      "cell_type": "code",
      "execution_count": null,
      "metadata": {
        "id": "1XgjUhpXOnCN"
      },
      "outputs": [],
      "source": [
        "geoai.view_raster(train_raster_url)"
      ]
    },
    {
      "cell_type": "code",
      "execution_count": null,
      "metadata": {
        "id": "KkvjCtT1OnCN"
      },
      "outputs": [],
      "source": [
        "geoai.view_raster(test_raster_url)"
      ]
    },
    {
      "cell_type": "markdown",
      "metadata": {
        "id": "zS9HwehoOnCO"
      },
      "source": [
        "## Download sample wetland data\n",
        "\n",
        "National Wetlands Inventory: https://www.fws.gov/program/national-wetlands-inventory/wetlands-mapper"
      ]
    },
    {
      "cell_type": "code",
      "execution_count": null,
      "metadata": {
        "id": "R3y31p96OnCO"
      },
      "outputs": [],
      "source": [
        "m = leafmap.Map()\n",
        "m.add_cog_layer(train_raster_url, bidx=[4, 1, 2], name=\"NAIP Imagery\")\n",
        "m"
      ]
    },
    {
      "cell_type": "code",
      "execution_count": null,
      "metadata": {
        "id": "XGzS2zA6OnCO"
      },
      "outputs": [],
      "source": [
        "bbox = m.user_roi_bounds()\n",
        "if bbox is None:\n",
        "    bbox = [-99.192, 46.56, -99.1206, 46.6283]"
      ]
    },
    {
      "cell_type": "code",
      "execution_count": null,
      "metadata": {
        "id": "CB_Qd6XFOnCO"
      },
      "outputs": [],
      "source": [
        "bbox_geometry = leafmap.bbox_to_gdf(bbox)"
      ]
    },
    {
      "cell_type": "code",
      "execution_count": null,
      "metadata": {
        "id": "9ayFYbdoOnCP"
      },
      "outputs": [],
      "source": [
        "nwi_gdf = leafmap.get_nwi(bbox_geometry)\n",
        "nwi_gdf.head()"
      ]
    },
    {
      "cell_type": "code",
      "execution_count": null,
      "metadata": {
        "id": "pKH-0YHAOnCP"
      },
      "outputs": [],
      "source": [
        "m.add_nwi(nwi_gdf, col_name=\"Wetlands.WETLAND_TYPE\")"
      ]
    },
    {
      "cell_type": "code",
      "execution_count": null,
      "metadata": {
        "id": "zcJ5n1DvOnCP"
      },
      "outputs": [],
      "source": [
        "nwi_geojson = \"nwi_wetlands.geojson\"\n",
        "nwi_gdf.to_file(nwi_geojson)"
      ]
    },
    {
      "cell_type": "markdown",
      "metadata": {
        "id": "kMYdqulwOnCQ"
      },
      "source": [
        "## Create training data"
      ]
    },
    {
      "cell_type": "code",
      "execution_count": null,
      "metadata": {
        "id": "97nYpi3COnCQ"
      },
      "outputs": [],
      "source": [
        "out_folder = \"output\"\n",
        "tiles = geoai.export_geotiff_tiles(\n",
        "    in_raster=train_raster_path,\n",
        "    out_folder=out_folder,\n",
        "    in_class_data=nwi_geojson,\n",
        "    tile_size=512,\n",
        "    stride=256,\n",
        "    buffer_radius=0,\n",
        ")"
      ]
    },
    {
      "cell_type": "markdown",
      "metadata": {
        "id": "MCZWU4pgOnCQ"
      },
      "source": [
        "## Train object detection model"
      ]
    },
    {
      "cell_type": "code",
      "execution_count": null,
      "metadata": {
        "id": "cLp0ZhRKOnCQ"
      },
      "outputs": [],
      "source": [
        "geoai.train_MaskRCNN_model(\n",
        "    images_dir=f\"{out_folder}/images\",\n",
        "    labels_dir=f\"{out_folder}/labels\",\n",
        "    output_dir=f\"{out_folder}/models\",\n",
        "    num_channels=4,\n",
        "    pretrained=True,\n",
        "    batch_size=4,\n",
        "    num_epochs=10,\n",
        "    learning_rate=0.005,\n",
        "    val_split=0.2,\n",
        ")"
      ]
    },
    {
      "cell_type": "markdown",
      "metadata": {
        "id": "ncsxowZ6OnCR"
      },
      "source": [
        "## Run inference"
      ]
    },
    {
      "cell_type": "code",
      "execution_count": null,
      "metadata": {
        "id": "DPZaHr5KOnCR"
      },
      "outputs": [],
      "source": [
        "masks_path = \"naip_test_prediction.tif\"\n",
        "model_path = f\"{out_folder}/models/best_model.pth\""
      ]
    },
    {
      "cell_type": "code",
      "execution_count": null,
      "metadata": {
        "id": "BP0JXu40OnCR"
      },
      "outputs": [],
      "source": [
        "geoai.object_detection(\n",
        "    test_raster_path,\n",
        "    masks_path,\n",
        "    model_path,\n",
        "    window_size=512,\n",
        "    overlap=256,\n",
        "    confidence_threshold=0.3,\n",
        "    batch_size=4,\n",
        "    num_channels=4,\n",
        ")"
      ]
    },
    {
      "cell_type": "markdown",
      "metadata": {
        "id": "be6-aDcrOnCR"
      },
      "source": [
        "## Vectorize masks"
      ]
    },
    {
      "cell_type": "code",
      "execution_count": null,
      "metadata": {
        "id": "tODd3bMoOnCR"
      },
      "outputs": [],
      "source": [
        "output_path = \"naip_test_prediction.geojson\"\n",
        "gdf = geoai.raster_to_vector(\n",
        "    masks_path, output_path, min_area=1000, simplify_tolerance=1\n",
        ")"
      ]
    },
    {
      "cell_type": "markdown",
      "metadata": {
        "id": "6mTeHV8SOnCS"
      },
      "source": [
        "## Visualize results"
      ]
    },
    {
      "cell_type": "code",
      "execution_count": null,
      "metadata": {
        "id": "L-u1uz8OOnCS"
      },
      "outputs": [],
      "source": [
        "geoai.view_vector_interactive(output_path, tiles=test_raster_url)"
      ]
    },
    {
      "cell_type": "code",
      "execution_count": null,
      "metadata": {
        "id": "p9c7W_ZmOnCS"
      },
      "outputs": [],
      "source": [
        "geoai.create_split_map(\n",
        "    left_layer=output_path,\n",
        "    right_layer=test_raster_url,\n",
        "    left_args={\"style\": {\"color\": \"red\", \"fillOpacity\": 0.4}},\n",
        "    basemap=test_raster_url,\n",
        ")"
      ]
    },
    {
      "cell_type": "markdown",
      "metadata": {
        "id": "-CcnBX9GOnCS"
      },
      "source": [
        "![image](https://github.com/user-attachments/assets/ab17cb29-7426-4090-8d02-b3b98dad5d05)"
      ]
    }
  ],
  "metadata": {
    "kernelspec": {
      "display_name": "Python 3 (ipykernel)",
      "language": "python",
      "name": "python3"
    },
    "language_info": {
      "codemirror_mode": {
        "name": "ipython",
        "version": 3
      },
      "file_extension": ".py",
      "mimetype": "text/x-python",
      "name": "python",
      "nbconvert_exporter": "python",
      "pygments_lexer": "ipython3",
      "version": "3.12.9"
    },
    "colab": {
      "provenance": []
    }
  },
  "nbformat": 4,
  "nbformat_minor": 0
}